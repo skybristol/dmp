{
 "cells": [
  {
   "cell_type": "markdown",
   "metadata": {},
   "source": [
    "# Data Management Plan for SWAP/SSGCN species\n",
    "\n",
    "The U.S. Geological Survey has developed a process that allows the Species of Greatest Conservation Need from all of the state's plans to be compiled, making their representation across taxa groups and nationwide available via the Species Conservation Analysis Tool.\n",
    "\n",
    "The following sections are meant to be readable and fully executable with no external dependencies other than what can be accomplished here in Python code and a few standard packages. It mostly works against the ScienceBase API, which forms the foundation for SSGCN data management."
   ]
  },
  {
   "cell_type": "code",
   "execution_count": 1,
   "metadata": {
    "collapsed": true
   },
   "outputs": [],
   "source": [
    "import requests,json,pysb\n",
    "from IPython.display import display\n",
    "\n",
    "# Set the root collection ID for SWAP/SGCN source data in ScienceBase\n",
    "swapSourceCollectionID = \"56d720ece4b015c306f442d5\""
   ]
  },
  {
   "cell_type": "markdown",
   "metadata": {},
   "source": [
    "## Responsible Parties\n",
    "\n",
    "One of the first things we need to know is who's responsible for managing the data in this or any other case. In the case of SWAP, data management really starts and comes back often to a single [collection](https://www.sciencebase.gov/catalog/item/56d720ece4b015c306f442d5) of resources in ScienceBase. We use contact information from this collection to declare and keep track of who's responsible for the whole system. Because ScienceBase has an API, we can dynamically tap it for information to display and use in different ways."
   ]
  },
  {
   "cell_type": "code",
   "execution_count": 2,
   "metadata": {
    "collapsed": false
   },
   "outputs": [],
   "source": [
    "# Initiate a ScienceBase session and login (if necessary to get at private items or make changes)\n",
    "sb = pysb.SbSession()\n",
    "\n",
    "# username = input(\"Username:  \")\n",
    "# sb.loginc(str(username))"
   ]
  },
  {
   "cell_type": "code",
   "execution_count": 4,
   "metadata": {
    "collapsed": false
   },
   "outputs": [
    {
     "data": {
      "text/plain": [
       "[{'active': True,\n",
       "  'contactType': 'person',\n",
       "  'email': 'albenson@usgs.gov',\n",
       "  'firstName': 'Abigail',\n",
       "  'jobTitle': 'Biologist',\n",
       "  'lastName': 'Benson',\n",
       "  'middleName': 'L',\n",
       "  'name': 'Abigail L Benson',\n",
       "  'oldPartyId': 23179,\n",
       "  'organization': {'displayText': 'Biogeographic Characterization'},\n",
       "  'primaryLocation': {'building': 'DFC Bldg 810',\n",
       "   'buildingCode': 'KBT',\n",
       "   'faxPhone': '3032024229',\n",
       "   'mailAddress': {'city': 'Denver',\n",
       "    'country': 'USA',\n",
       "    'line1': 'Box 25046, Denver Federal Center, Mail Stop 306',\n",
       "    'mailStopCode': '306',\n",
       "    'state': 'CO',\n",
       "    'zip': '80225-0046'},\n",
       "   'name': 'Abigial L Benson/GIO/USGS/DOI - Primary Location',\n",
       "   'officePhone': '3032024087',\n",
       "   'streetAddress': {'city': 'Lakewood',\n",
       "    'line1': 'W 6th Ave Kipling St',\n",
       "    'state': 'CO',\n",
       "    'zip': '80225'}}}]"
      ]
     },
     "metadata": {},
     "output_type": "display_data"
    }
   ],
   "source": [
    "# Need to format this better, but here's a quick dump of the contact information from the root collection for SWAP in ScienceBase\n",
    "swapCollection = sb.get_item(swapSourceCollectionID)\n",
    "display(swapCollection['contacts'])"
   ]
  },
  {
   "cell_type": "markdown",
   "metadata": {},
   "source": [
    "### Notes\n",
    "* So far, there's only one contact listed for the root collection in ScienceBase. It's the right person, but it's not qualified as to what role Abby Benson plays with the system.\n",
    "* We should also add organizational contacts as a matter of course so that there is greater longevity and reach to the record. If a person leaves the organization or is no longer affiliated with a product that has a data management plan, we need to know who to get in touch with and how to transfer ownership."
   ]
  },
  {
   "cell_type": "markdown",
   "metadata": {},
   "source": [
    "## Source Data (aka \"Acquire\")\n",
    "\n",
    "One of the next things we need to do here is look at the substance of the Acquire section of the document where it states things about processing the PDF files from State Wildlife Action Plans in 2005. We can say something about that in text, but the current system has a flaw that we can rectify and then prove out in the notebook. There is currently a fairly hidden folder of all the PDFs that were processed from the 2005 SWAPs that is in the online web app but nowhere else. We should get those files attached to the 2005 items in the ScienceBase SWAP collection so that they are more well managed and then reference them in various ways from there. Ideally, we would also have some information backing up whatever process we went through to extract species names from those files and any decisions we made along the way about what to include or not include in that process. Unfortunately, that is probably ancient history at this point with no reasonable provenance trace, but we can at least make the releva"
   ]
  }
 ],
 "metadata": {
  "kernelspec": {
   "display_name": "Python 3",
   "language": "python",
   "name": "python3"
  },
  "language_info": {
   "codemirror_mode": {
    "name": "ipython",
    "version": 3
   },
   "file_extension": ".py",
   "mimetype": "text/x-python",
   "name": "python",
   "nbconvert_exporter": "python",
   "pygments_lexer": "ipython3",
   "version": "3.5.3"
  }
 },
 "nbformat": 4,
 "nbformat_minor": 0
}
