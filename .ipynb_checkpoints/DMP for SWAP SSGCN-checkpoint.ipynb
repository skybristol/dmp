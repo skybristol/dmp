{
 "cells": [
  {
   "cell_type": "markdown",
   "metadata": {},
   "source": [
    "# Data Management Plan for SWAP/SSGCN species\n",
    "\n",
    "This is an experiment in writing a Data Management Plan as code. It builds on an initial planning exercise conducted by staff associated with the State Wildlife Action Plan database (aka Synthesized Species of Greatest Conservation Need) built and maintained by the USGS CSS-CSASL-BCB (more on that in a bit). We are working here to make data management planning a dynamic activity, complete with built-in tests, as opposed to a static document. Jupyter Notebooks make for a good way of doing that.\n",
    "\n",
    "The following sections are meant to be readable and fully executable with no external dependencies other than what can be accomplished here in Python code and a few standard packages. It mostly works against the ScienceBase API, which forms the foundation for SSGCN data management."
   ]
  },
  {
   "cell_type": "code",
   "execution_count": 3,
   "metadata": {
    "collapsed": true
   },
   "outputs": [],
   "source": [
    "import requests,json,pysb"
   ]
  },
  {
   "cell_type": "markdown",
   "metadata": {},
   "source": [
    "## Responsible Parties\n",
    "\n",
    "One of the first things we need to know is who's responsible for managing the data in this or any other case. In the case of SWAP, data management really starts and comes back often to a single [collection](https://www.sciencebase.gov/catalog/item/56d720ece4b015c306f442d5) of resources in ScienceBase. We use contact information from this collection to declare and keep track of who's responsible for the whole system. Because ScienceBase has an API, we can dynamically tap it for information to display and use in different ways."
   ]
  },
  {
   "cell_type": "code",
   "execution_count": 4,
   "metadata": {
    "collapsed": false
   },
   "outputs": [],
   "source": [
    "# Initiate the ScienceBase session and login (if necessary)\n",
    "sb = pysb.SbSession()\n",
    "\n",
    "# username = input(\"Username:  \")\n",
    "# sb.loginc(str(username))"
   ]
  },
  {
   "cell_type": "code",
   "execution_count": null,
   "metadata": {
    "collapsed": true
   },
   "outputs": [],
   "source": []
  }
 ],
 "metadata": {
  "kernelspec": {
   "display_name": "Python 3",
   "language": "python",
   "name": "python3"
  },
  "language_info": {
   "codemirror_mode": {
    "name": "ipython",
    "version": 3
   },
   "file_extension": ".py",
   "mimetype": "text/x-python",
   "name": "python",
   "nbconvert_exporter": "python",
   "pygments_lexer": "ipython3",
   "version": "3.5.3"
  }
 },
 "nbformat": 4,
 "nbformat_minor": 0
}
